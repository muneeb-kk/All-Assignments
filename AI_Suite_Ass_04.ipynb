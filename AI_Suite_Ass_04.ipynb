{
  "nbformat": 4,
  "nbformat_minor": 0,
  "metadata": {
    "colab": {
      "provenance": [],
      "authorship_tag": "ABX9TyNJ3bEKFi+asn27G7+66+hZ",
      "include_colab_link": true
    },
    "kernelspec": {
      "name": "python3",
      "display_name": "Python 3"
    },
    "language_info": {
      "name": "python"
    }
  },
  "cells": [
    {
      "cell_type": "markdown",
      "metadata": {
        "id": "view-in-github",
        "colab_type": "text"
      },
      "source": [
        "<a href=\"https://colab.research.google.com/github/muneeb-kk/All-Assignments/blob/main/AI_Suite_Ass_04.ipynb\" target=\"_parent\"><img src=\"https://colab.research.google.com/assets/colab-badge.svg\" alt=\"Open In Colab\"/></a>"
      ]
    },
    {
      "cell_type": "code",
      "source": [
        "!pip install aisuite"
      ],
      "metadata": {
        "colab": {
          "base_uri": "https://localhost:8080/"
        },
        "collapsed": true,
        "id": "IE4-1zvVrC6R",
        "outputId": "b63167b9-b135-4f81-d649-afca283f1345"
      },
      "execution_count": 15,
      "outputs": [
        {
          "output_type": "stream",
          "name": "stdout",
          "text": [
            "Requirement already satisfied: aisuite in /usr/local/lib/python3.11/dist-packages (0.1.9)\n",
            "Requirement already satisfied: docstring-parser<0.15.0,>=0.14.0 in /usr/local/lib/python3.11/dist-packages (from aisuite) (0.14.1)\n",
            "Requirement already satisfied: httpx<0.28.0,>=0.27.0 in /usr/local/lib/python3.11/dist-packages (from aisuite) (0.27.2)\n",
            "Requirement already satisfied: anyio in /usr/local/lib/python3.11/dist-packages (from httpx<0.28.0,>=0.27.0->aisuite) (3.7.1)\n",
            "Requirement already satisfied: certifi in /usr/local/lib/python3.11/dist-packages (from httpx<0.28.0,>=0.27.0->aisuite) (2025.1.31)\n",
            "Requirement already satisfied: httpcore==1.* in /usr/local/lib/python3.11/dist-packages (from httpx<0.28.0,>=0.27.0->aisuite) (1.0.7)\n",
            "Requirement already satisfied: idna in /usr/local/lib/python3.11/dist-packages (from httpx<0.28.0,>=0.27.0->aisuite) (3.10)\n",
            "Requirement already satisfied: sniffio in /usr/local/lib/python3.11/dist-packages (from httpx<0.28.0,>=0.27.0->aisuite) (1.3.1)\n",
            "Requirement already satisfied: h11<0.15,>=0.13 in /usr/local/lib/python3.11/dist-packages (from httpcore==1.*->httpx<0.28.0,>=0.27.0->aisuite) (0.14.0)\n"
          ]
        }
      ]
    },
    {
      "cell_type": "code",
      "source": [
        "!pip install -q 'aisuite[anthropic]'"
      ],
      "metadata": {
        "id": "rxg4Veq-roMd"
      },
      "execution_count": 16,
      "outputs": []
    },
    {
      "cell_type": "code",
      "source": [
        "!pip install -q 'aisuite[all]'"
      ],
      "metadata": {
        "id": "E4_il_G9rw4d"
      },
      "execution_count": 17,
      "outputs": []
    },
    {
      "cell_type": "code",
      "source": [
        "from google.colab import userdata\n",
        "GROQ_API = userdata.get('GROQ_API_KEY')"
      ],
      "metadata": {
        "id": "2wXSM5bIsIb0"
      },
      "execution_count": 19,
      "outputs": []
    },
    {
      "cell_type": "code",
      "source": [
        "!pip install --upgrade aisuite\n",
        "!pip install --upgrade groq"
      ],
      "metadata": {
        "colab": {
          "base_uri": "https://localhost:8080/"
        },
        "id": "VmtEVwB3teYK",
        "outputId": "0ecbe9b9-a24d-43ab-a6c3-c68cfb351203"
      },
      "execution_count": 20,
      "outputs": [
        {
          "output_type": "stream",
          "name": "stdout",
          "text": [
            "Requirement already satisfied: aisuite in /usr/local/lib/python3.11/dist-packages (0.1.9)\n",
            "Requirement already satisfied: docstring-parser<0.15.0,>=0.14.0 in /usr/local/lib/python3.11/dist-packages (from aisuite) (0.14.1)\n",
            "Requirement already satisfied: httpx<0.28.0,>=0.27.0 in /usr/local/lib/python3.11/dist-packages (from aisuite) (0.27.2)\n",
            "Requirement already satisfied: anyio in /usr/local/lib/python3.11/dist-packages (from httpx<0.28.0,>=0.27.0->aisuite) (3.7.1)\n",
            "Requirement already satisfied: certifi in /usr/local/lib/python3.11/dist-packages (from httpx<0.28.0,>=0.27.0->aisuite) (2025.1.31)\n",
            "Requirement already satisfied: httpcore==1.* in /usr/local/lib/python3.11/dist-packages (from httpx<0.28.0,>=0.27.0->aisuite) (1.0.7)\n",
            "Requirement already satisfied: idna in /usr/local/lib/python3.11/dist-packages (from httpx<0.28.0,>=0.27.0->aisuite) (3.10)\n",
            "Requirement already satisfied: sniffio in /usr/local/lib/python3.11/dist-packages (from httpx<0.28.0,>=0.27.0->aisuite) (1.3.1)\n",
            "Requirement already satisfied: h11<0.15,>=0.13 in /usr/local/lib/python3.11/dist-packages (from httpcore==1.*->httpx<0.28.0,>=0.27.0->aisuite) (0.14.0)\n",
            "Requirement already satisfied: groq in /usr/local/lib/python3.11/dist-packages (0.9.0)\n",
            "Collecting groq\n",
            "  Using cached groq-0.18.0-py3-none-any.whl.metadata (14 kB)\n",
            "Requirement already satisfied: anyio<5,>=3.5.0 in /usr/local/lib/python3.11/dist-packages (from groq) (3.7.1)\n",
            "Requirement already satisfied: distro<2,>=1.7.0 in /usr/local/lib/python3.11/dist-packages (from groq) (1.9.0)\n",
            "Requirement already satisfied: httpx<1,>=0.23.0 in /usr/local/lib/python3.11/dist-packages (from groq) (0.27.2)\n",
            "Requirement already satisfied: pydantic<3,>=1.9.0 in /usr/local/lib/python3.11/dist-packages (from groq) (2.10.6)\n",
            "Requirement already satisfied: sniffio in /usr/local/lib/python3.11/dist-packages (from groq) (1.3.1)\n",
            "Requirement already satisfied: typing-extensions<5,>=4.10 in /usr/local/lib/python3.11/dist-packages (from groq) (4.12.2)\n",
            "Requirement already satisfied: idna>=2.8 in /usr/local/lib/python3.11/dist-packages (from anyio<5,>=3.5.0->groq) (3.10)\n",
            "Requirement already satisfied: certifi in /usr/local/lib/python3.11/dist-packages (from httpx<1,>=0.23.0->groq) (2025.1.31)\n",
            "Requirement already satisfied: httpcore==1.* in /usr/local/lib/python3.11/dist-packages (from httpx<1,>=0.23.0->groq) (1.0.7)\n",
            "Requirement already satisfied: h11<0.15,>=0.13 in /usr/local/lib/python3.11/dist-packages (from httpcore==1.*->httpx<1,>=0.23.0->groq) (0.14.0)\n",
            "Requirement already satisfied: annotated-types>=0.6.0 in /usr/local/lib/python3.11/dist-packages (from pydantic<3,>=1.9.0->groq) (0.7.0)\n",
            "Requirement already satisfied: pydantic-core==2.27.2 in /usr/local/lib/python3.11/dist-packages (from pydantic<3,>=1.9.0->groq) (2.27.2)\n",
            "Using cached groq-0.18.0-py3-none-any.whl (121 kB)\n",
            "Installing collected packages: groq\n",
            "  Attempting uninstall: groq\n",
            "    Found existing installation: groq 0.9.0\n",
            "    Uninstalling groq-0.9.0:\n",
            "      Successfully uninstalled groq-0.9.0\n",
            "Successfully installed groq-0.18.0\n"
          ]
        }
      ]
    },
    {
      "cell_type": "code",
      "source": [
        "import os\n",
        "os.environ[\"GROQ_API_KEY\"] = GROQ_API"
      ],
      "metadata": {
        "id": "W-6BPuBttuVS"
      },
      "execution_count": 21,
      "outputs": []
    },
    {
      "cell_type": "code",
      "source": [
        "import aisuite as ai\n",
        "client = ai.Client()  # Ensure no extra arguments like proxies are passed\n",
        "\n",
        "models = [\"groq:llama3-8b-8192\"]\n",
        "\n",
        "messages = [\n",
        "    {\"role\": \"system\", \"content\": \"give me summary on AI.\"},\n",
        "    {\"role\": \"user\", \"content\": \"AI.\"},\n",
        "]\n",
        "\n",
        "for model in models:\n",
        "    response = client.chat.completions.create(\n",
        "        model=model,\n",
        "        messages=messages,\n",
        "        temperature=0.75\n",
        "    )\n",
        "    print(response.choices[0].message.content)"
      ],
      "metadata": {
        "colab": {
          "base_uri": "https://localhost:8080/"
        },
        "id": "RoGiSyqnt00H",
        "outputId": "65705ace-f168-4baa-dff7-7b0f6d153a30"
      },
      "execution_count": 22,
      "outputs": [
        {
          "output_type": "stream",
          "name": "stdout",
          "text": [
            "Here is a summary of Artificial Intelligence (AI):\n",
            "\n",
            "**What is AI?**\n",
            "\n",
            "Artificial Intelligence (AI) refers to the development of computer systems that can perform tasks that typically require human intelligence, such as:\n",
            "\n",
            "* Learning\n",
            "* Problem-solving\n",
            "* Reasoning\n",
            "* Perception\n",
            "* Understanding\n",
            "\n",
            "**Types of AI:**\n",
            "\n",
            "1. **Narrow or Weak AI**: Designed to perform a specific task, such as playing chess, recognizing faces, or translating languages.\n",
            "2. **General or Strong AI**: Aims to mimic human intelligence across a wide range of tasks, but is still in the research phase.\n",
            "3. **Superintelligence**: Exceeds human intelligence in all domains, potentially leading to significant advancements or risks.\n",
            "\n",
            "**AI Applications:**\n",
            "\n",
            "1. **Machine Learning**: AI systems learn from data and improve their performance over time.\n",
            "2. **Natural Language Processing**: AI understands and generates human language.\n",
            "3. **Robotics**: AI powers autonomous robots and drones.\n",
            "4. **Computer Vision**: AI recognizes and interprets visual data from images and videos.\n",
            "5. **Expert Systems**: AI mimics human decision-making and problem-solving.\n",
            "\n",
            "**AI Techniques:**\n",
            "\n",
            "1. **Decision Trees**: AI uses decision-making algorithms to classify data.\n",
            "2. **Neural Networks**: AI mimics human brain structures to learn and make decisions.\n",
            "3. **Deep Learning**: AI uses neural networks to analyze complex data.\n",
            "4. **Reinforcement Learning**: AI learns through trial and error.\n",
            "5. **Genetic Algorithms**: AI uses evolutionary principles to solve optimization problems.\n",
            "\n",
            "**Advantages:**\n",
            "\n",
            "1. **Increased Efficiency**: AI automates repetitive tasks and improves productivity.\n",
            "2. **Improved Accuracy**: AI reduces errors and improves decision-making.\n",
            "3. **Enhanced Customer Experience**: AI provides personalized services and support.\n",
            "4. **New Business Opportunities**: AI creates new industries and job markets.\n",
            "\n",
            "**Challenges:**\n",
            "\n",
            "1. **Bias and Fairness**: AI systems can perpetuate biases and discrimination.\n",
            "2. **Explainability**: AI decisions are often difficult to understand.\n",
            "3. **Privacy**: AI collects and uses vast amounts of personal data.\n",
            "4. **Job Displacement**: AI may displace human workers in certain industries.\n",
            "5. **Ethical Concerns**: AI raises ethical questions about accountability and responsibility.\n",
            "\n",
            "**Future of AI:**\n",
            "\n",
            "1. **Increased Adoption**: AI will become more integrated into various industries.\n",
            "2. **Improved Ethics**: AI developers will prioritize ethical considerations.\n",
            "3. **Advancements in Robotics**: AI-powered robots will become more sophisticated.\n",
            "4. **Quantum AI**: AI will leverage quantum computing to solve complex problems.\n",
            "5. **Human-AI Collaboration**: Humans and AI will work together to achieve greater success.\n",
            "\n",
            "This summary provides an overview of the AI landscape, its applications, techniques, advantages, challenges, and future directions.\n"
          ]
        }
      ]
    }
  ]
}