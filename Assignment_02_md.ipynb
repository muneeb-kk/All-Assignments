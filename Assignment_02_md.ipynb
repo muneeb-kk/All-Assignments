{
  "nbformat": 4,
  "nbformat_minor": 0,
  "metadata": {
    "colab": {
      "provenance": [],
      "authorship_tag": "ABX9TyOLMk6iqQhehv5ne6HcxAXE",
      "include_colab_link": true
    },
    "kernelspec": {
      "name": "python3",
      "display_name": "Python 3"
    },
    "language_info": {
      "name": "python"
    }
  },
  "cells": [
    {
      "cell_type": "markdown",
      "metadata": {
        "id": "view-in-github",
        "colab_type": "text"
      },
      "source": [
        "<a href=\"https://colab.research.google.com/github/muneeb-kk/All-Assignments/blob/main/Assignment_02_md.ipynb\" target=\"_parent\"><img src=\"https://colab.research.google.com/assets/colab-badge.svg\" alt=\"Open In Colab\"/></a>"
      ]
    },
    {
      "cell_type": "code",
      "execution_count": null,
      "metadata": {
        "id": "8hIQQIPOcFmK"
      },
      "outputs": [],
      "source": []
    },
    {
      "cell_type": "markdown",
      "source": [
        "### API  \n",
        "An Application Programming Interface provides a set of rules for interacting with software or services, enabling data exchange and functionality integration.\n",
        "\n",
        "### SDK  \n",
        "A Software Development Kit bundles tools, libraries, and documentation to help developers build applications for specific platforms or environments.\n",
        "\n",
        "### Web APIs  \n",
        "Web APIs allow interaction with web-based services or applications via HTTP, enabling access to functionality like data retrieval or processing.\n",
        "\n",
        "### Library APIs  \n",
        "Library APIs provide prewritten code modules for developers to perform specific tasks or access reusable functionalities within their applications.\n",
        "\n",
        "### Prompting and Completion  \n",
        "Prompting involves providing an input to a system, often for AI or NLP tasks, while completion is the system's generated output in response."
      ],
      "metadata": {
        "id": "Suz1BcHwjyOp"
      }
    },
    {
      "cell_type": "code",
      "source": [],
      "metadata": {
        "id": "9DiaoRNakxev"
      },
      "execution_count": null,
      "outputs": []
    }
  ]
}